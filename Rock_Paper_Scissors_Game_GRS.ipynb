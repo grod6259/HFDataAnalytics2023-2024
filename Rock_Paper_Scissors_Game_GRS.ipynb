{
  "cells": [
    {
      "cell_type": "markdown",
      "metadata": {
        "id": "view-in-github",
        "colab_type": "text"
      },
      "source": [
        "<a href=\"https://colab.research.google.com/github/grod6259/HFDataAnalytics2023-2024/blob/main/Rock_Paper_Scissors_Game_GRS.ipynb\" target=\"_parent\"><img src=\"https://colab.research.google.com/assets/colab-badge.svg\" alt=\"Open In Colab\"/></a>"
      ]
    },
    {
      "cell_type": "code",
      "execution_count": null,
      "id": "e9068628",
      "metadata": {
        "id": "e9068628",
        "outputId": "bb6544a0-68c5-441c-d414-2bea850e9cfb",
        "colab": {
          "base_uri": "https://localhost:8080/"
        }
      },
      "outputs": [
        {
          "output_type": "stream",
          "name": "stdout",
          "text": [
            "welcome to Rock Paper Scissors!\n",
            "\n"
          ]
        }
      ],
      "source": [
        "import random\n",
        "import sys\n",
        "print (\"welcome to Rock Paper Scissors!\\n\")\n",
        "\n",
        "a = [\"rock\", \"paper\", \"scissors\"]\n",
        "\n",
        "\n",
        "\n",
        "def playAgain():\n",
        "    play_again = input('would you like to play again? (y/n): ')\n",
        "    if play_again.startswith('y'):\n",
        "        game()\n",
        "    else:\n",
        "        sys.exit()\n",
        "\n",
        "def game():\n",
        "    word = input('Enter rock, paper, or scissors: ')\n",
        "    while word not in a:\n",
        "        word = input('You must enter rock, paper, or scissors. Try again: ')\n",
        "\n",
        "\n",
        "    comp_draw = random.choice(a)\n",
        "    print('The computer drew ' + comp_draw)\n",
        "    if comp_draw == 'rock' and word=='rock':\n",
        "        print('It was a tie')\n",
        "        playAgain()\n",
        "    elif comp_draw == 'paper' and word=='paper':\n",
        "        print('It was a tie')\n",
        "        playAgain()\n",
        "    elif comp_draw == 'scissors' and word=='scissors':\n",
        "        print('It was a tie')\n",
        "        playAgain()\n",
        "    elif comp_draw == 'paper' and word=='rock':\n",
        "        print('you lost, paper covers rock')\n",
        "        playAgain()\n",
        "    elif comp_draw == 'rock' and word=='paper':\n",
        "        print('you won, paper covers rock!')\n",
        "        playAgain()\n",
        "    elif comp_draw == 'rock' and word=='scissors':\n",
        "        print('you lost, rock smashes scissors')\n",
        "        playAgain()\n",
        "    elif comp_draw == 'scissors' and word=='rock':\n",
        "        print('you won, rock smashes scissors!')\n",
        "        playAgain()\n",
        "    elif comp_draw == 'paper' and word== 'scissors':\n",
        "        print('you won, scissors cuts paper!')\n",
        "        playAgain()\n",
        "    elif comp_draw == 'scissors' and word=='paper':\n",
        "        print('you lost, scissors cuts paper!')\n",
        "        playAgain()\n",
        "game()"
      ]
    },
    {
      "cell_type": "code",
      "execution_count": null,
      "id": "0665ad9f",
      "metadata": {
        "id": "0665ad9f"
      },
      "outputs": [],
      "source": []
    }
  ],
  "metadata": {
    "kernelspec": {
      "display_name": "Python 3 (ipykernel)",
      "language": "python",
      "name": "python3"
    },
    "language_info": {
      "codemirror_mode": {
        "name": "ipython",
        "version": 3
      },
      "file_extension": ".py",
      "mimetype": "text/x-python",
      "name": "python",
      "nbconvert_exporter": "python",
      "pygments_lexer": "ipython3",
      "version": "3.11.5"
    },
    "colab": {
      "provenance": [],
      "include_colab_link": true
    }
  },
  "nbformat": 4,
  "nbformat_minor": 5
}